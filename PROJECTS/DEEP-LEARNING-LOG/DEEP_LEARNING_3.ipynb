{
  "nbformat": 4,
  "nbformat_minor": 0,
  "metadata": {
    "colab": {
      "provenance": [],
      "toc_visible": true
    },
    "kernelspec": {
      "name": "python3",
      "display_name": "Python 3"
    },
    "language_info": {
      "name": "python"
    }
  },
  "cells": [
    {
      "cell_type": "code",
      "execution_count": null,
      "metadata": {
        "id": "MDIZnLetEgxb"
      },
      "outputs": [],
      "source": [
        "#WORKING WITH DATA\n",
        "\"\"\"\n",
        "For most models, features are numbers. What the numbers represent\n",
        "depends upon the task at hand. If we’re interested in identifying flowers\n",
        "based on measurements of their physical properties, our features are those\n",
        "measurements. If we’re interested in using the dimensions of cells in a med\u0002ical\n",
        "sample to predict whether a tumor is breast cancer or not, the features\n",
        "are those dimensions. With modern techniques, the features might be the\n",
        "pixels of an image (numbers), or a sound’s frequency (numbers) or even\n",
        "how many foxes were counted by a camera trap over a two-week period\n",
        "(numbers).\n",
        "\"\"\""
      ]
    },
    {
      "cell_type": "markdown",
      "source": [
        "# TYPES OF FEATURES"
      ],
      "metadata": {
        "id": "kCM5gjcmIOfW"
      }
    },
    {
      "cell_type": "markdown",
      "source": [
        "**Floating-Point Numbers**\n",
        "\n",
        ". A typical measurement might be 2.33 cm. This is a\n",
        "floating-point number—a number with a decimal point, or, if you remember\n",
        "your high school math courses, a real number. Most models want to work\n",
        "with floating-point numbers, so you can just use the measurements as they\n",
        "are"
      ],
      "metadata": {
        "id": "shEyMK59IQ-b"
      }
    },
    {
      "cell_type": "markdown",
      "source": [
        "**Interval Values**\n",
        "Floating-point numbers don’t work for everything, however. Clearly, flow\u0002ers cannot have 10.14 petals, though they might have 9, 10, or 11. These\n",
        "numbers are integers: whole numbers without a fractional part or a decimal\n",
        "point. Unlike floating-point numbers, they are discrete, which means they\n",
        "pick out only certain values, leaving gaps in between."
      ],
      "metadata": {
        "id": "w2ybzPZXIYyV"
      }
    },
    {
      "cell_type": "markdown",
      "source": [
        "**ordinal Values**\n",
        "owever, if we simply assign 1 for “com\u0002pleted high school,” 2 for “has an undergraduate degree,” and 3 for “has a\n",
        "doctorate or other professional degree,” we’d probably be in trouble; while\n",
        "3 > 2 > 1 is true, whether or not meaningful for our model, the difference\n",
        "between the values represented by 3 and 2 and 2 and 1 is not the same. Fea\u0002tures like these are called ordinal because they express an ordering, but the\n",
        "differences between the values are not necessarily always the same."
      ],
      "metadata": {
        "id": "1lWYVFIvImjc"
      }
    },
    {
      "cell_type": "markdown",
      "source": [
        "**Categorical Values**\n",
        "\n",
        "Sometimes we use numbers as codes. We might encode sex as 0 for male\n",
        "and 1 for female, for example. In this case, 1 is not understood to be greater\n",
        "than 0 or less than 0, so these are not interval or ordinal values. Instead,\n",
        "these are categorical values."
      ],
      "metadata": {
        "id": "obv-Igi4JEBg"
      }
    },
    {
      "cell_type": "markdown",
      "source": [
        "# SCALLING FEATURE"
      ],
      "metadata": {
        "id": "-p2cHdKm_vwv"
      }
    },
    {
      "cell_type": "code",
      "source": [
        "x = [\n",
        "[6998, 0.1361, 0.3408, 0.00007350, 78596048],\n",
        "[6580, 0.4908, 3.0150, 0.00004484, 38462706],\n",
        "[7563, 0.9349, 4.3465, 0.00001003, 6700340],\n",
        "[8355, 0.6529, 2.1271, 0.00002966, 51430391],\n",
        "[2393, 0.4605, 2.7561, 0.00003395, 27284192],\n",
        "[9498, 0.0244, 2.7887, 0.00008880, 78543394],\n",
        "[4030, 0.6467, 4.8231, 0.00000403, 19101443],\n",
        "[5275, 0.3560, 0.0705, 0.00000899, 96029352],\n",
        "[8094, 0.7979, 3.9897, 0.00006691, 7307156],\n",
        "[ 843, 0.7892, 0.9804, 0.00005798, 10179751],\n",
        "[1221, 0.9564, 2.3944, 0.00007815, 14241835],\n",
        "[5879, 0.0329, 2.0085, 0.00009564, 34243070],\n",
        "[ 923, 0.4159, 1.7821, 0.00002467, 52404615],\n",
        "[5882, 0.0002, 1.5362, 0.00005066, 18728752],\n",
        "[1796, 0.7247, 2.3190, 0.00001332, 96703562],\n",
        "]\n"
      ],
      "metadata": {
        "id": "S-iNKrgr_yjQ"
      },
      "execution_count": null,
      "outputs": []
    },
    {
      "cell_type": "code",
      "source": [
        "x"
      ],
      "metadata": {
        "colab": {
          "base_uri": "https://localhost:8080/"
        },
        "id": "MoNIe7YeAHpl",
        "outputId": "bc253e2d-dd95-458d-945c-dc276c063e3c"
      },
      "execution_count": null,
      "outputs": [
        {
          "output_type": "execute_result",
          "data": {
            "text/plain": [
              "[[6998, 0.1361, 0.3408, 7.35e-05, 78596048],\n",
              " [6580, 0.4908, 3.015, 4.484e-05, 38462706],\n",
              " [7563, 0.9349, 4.3465, 1.003e-05, 6700340],\n",
              " [8355, 0.6529, 2.1271, 2.966e-05, 51430391],\n",
              " [2393, 0.4605, 2.7561, 3.395e-05, 27284192],\n",
              " [9498, 0.0244, 2.7887, 8.88e-05, 78543394],\n",
              " [4030, 0.6467, 4.8231, 4.03e-06, 19101443],\n",
              " [5275, 0.356, 0.0705, 8.99e-06, 96029352],\n",
              " [8094, 0.7979, 3.9897, 6.691e-05, 7307156],\n",
              " [843, 0.7892, 0.9804, 5.798e-05, 10179751],\n",
              " [1221, 0.9564, 2.3944, 7.815e-05, 14241835],\n",
              " [5879, 0.0329, 2.0085, 9.564e-05, 34243070],\n",
              " [923, 0.4159, 1.7821, 2.467e-05, 52404615],\n",
              " [5882, 0.0002, 1.5362, 5.066e-05, 18728752],\n",
              " [1796, 0.7247, 2.319, 1.332e-05, 96703562]]"
            ]
          },
          "metadata": {},
          "execution_count": 2
        }
      ]
    },
    {
      "cell_type": "code",
      "source": [
        "import numpy as np\n",
        "x = np.array(x)\n",
        "#do not forget to import numpy library to use the mean method, because a normal list\n",
        "#does not has mean methods"
      ],
      "metadata": {
        "id": "DND5NKOSC82N"
      },
      "execution_count": null,
      "outputs": []
    },
    {
      "cell_type": "code",
      "source": [
        "x = (x - x.mean(axis=0)) / x.std(axis=0)# Standardize the numpy array"
      ],
      "metadata": {
        "id": "QK1D9dwkAOms"
      },
      "execution_count": null,
      "outputs": []
    },
    {
      "cell_type": "code",
      "source": [
        "x"
      ],
      "metadata": {
        "colab": {
          "base_uri": "https://localhost:8080/"
        },
        "id": "S678yvCCDOVJ",
        "outputId": "f9c9af34-e9b4-4712-d033-2688615de38b"
      },
      "execution_count": null,
      "outputs": [
        {
          "output_type": "execute_result",
          "data": {
            "text/plain": [
              "array([[ 0.69308862, -1.12598999, -1.53184967,  0.95258185,  1.18240196],\n",
              "       [ 0.54647372, -0.01203876,  0.50510857, -0.01928358, -0.1141859 ],\n",
              "       [ 0.89126426,  1.38267719,  1.51932212, -1.19969655, -1.14033263],\n",
              "       [ 1.16906091,  0.49704356, -0.17121154, -0.53403994,  0.3047611 ],\n",
              "       [-0.92213055, -0.10719726,  0.30790249, -0.38856532, -0.47533014],\n",
              "       [ 1.56997199, -1.47678885,  0.33273415,  1.47140742,  1.18070086],\n",
              "       [-0.34794732,  0.47757218,  1.88235192, -1.40315756, -0.73969021],\n",
              "       [ 0.0887406 , -0.43538419, -1.73773921, -1.23496312,  1.7456197 ],\n",
              "       [ 1.07751429,  0.95242255,  1.24754488,  0.72911384, -1.12072823],\n",
              "       [-1.46579825,  0.92509981, -1.04466154,  0.42629603, -1.0279233 ],\n",
              "       [-1.33321348,  1.4501989 ,  0.03239288,  1.11026413, -0.89668956],\n",
              "       [ 0.30059562, -1.45009422, -0.26155005,  1.70335297, -0.25050967],\n",
              "       [-1.43773798, -0.24726556, -0.43400063, -0.70325168,  0.33623535],\n",
              "       [ 0.30164788, -1.55279003, -0.62130451,  0.1780736 , -0.75173073],\n",
              "       [-1.1315303 ,  0.72253467, -0.02503987, -1.08813209,  1.7674014 ]])"
            ]
          },
          "metadata": {},
          "execution_count": 5
        }
      ]
    },
    {
      "cell_type": "code",
      "source": [
        "pr = [ 1.16906091,  0.49704356, -0.17121154, -0.53403994,  0.3047611 ]\n",
        "\n",
        "std = np.std(x[2])\n",
        "print(std)"
      ],
      "metadata": {
        "colab": {
          "base_uri": "https://localhost:8080/"
        },
        "id": "taHBTmtBMIaf",
        "outputId": "c412ca47-7cb2-40c3-f79d-aca406593190"
      },
      "execution_count": null,
      "outputs": [
        {
          "output_type": "stream",
          "name": "stdout",
          "text": [
            "1.210928583456509\n"
          ]
        }
      ]
    },
    {
      "cell_type": "code",
      "source": [
        "\n",
        "std = np.std(x[:,3])\n",
        "print(std)"
      ],
      "metadata": {
        "colab": {
          "base_uri": "https://localhost:8080/"
        },
        "id": "PkJDGiIzOsfe",
        "outputId": "a0f1c0c7-1222-42a6-dc78-f84782c60b8a"
      },
      "execution_count": null,
      "outputs": [
        {
          "output_type": "stream",
          "name": "stdout",
          "text": [
            "0.9999999999999999\n"
          ]
        }
      ]
    },
    {
      "cell_type": "code",
      "source": [
        "y = [\n",
        "[6998, 0.1361, 0.3408, 0.00007350, 78596048],\n",
        "[6580, 0.4908, 3.0150, 0.00004484, 38462706],\n",
        "[7563, 0.9349, 4.3465, 0.00001003, 6700340],\n",
        "[8355, 0.6529, 2.1271, 0.00002966, 51430391],\n",
        "[2393, 0.4605, 2.7561, 0.00003395, 27284192],\n",
        "[9498, 0.0244, 2.7887, 0.00008880, 78543394],\n",
        "[4030, 0.6467, 4.8231, 0.00000403, 19101443],\n",
        "[5275, 0.3560, 0.0705, 0.00000899, 96029352],\n",
        "[8094, 0.7979, 3.9897, 0.00006691, 7307156],\n",
        "[ 843, 0.7892, 0.9804, 0.00005798, 10179751],\n",
        "[1221, 0.9564, 2.3944, 0.00007815, 14241835],\n",
        "[5879, 0.0329, 2.0085, 0.00009564, 34243070],\n",
        "[ 923, 0.4159, 1.7821, 0.00002467, 52404615],\n",
        "[5882, 0.0002, 1.5362, 0.00005066, 18728752],\n",
        "[1796, 0.7247, 2.3190, 0.00001332, 96703562],\n",
        "]"
      ],
      "metadata": {
        "id": "U2zVQbb6O--X"
      },
      "execution_count": null,
      "outputs": []
    },
    {
      "cell_type": "code",
      "source": [
        "y = np.array(y)"
      ],
      "metadata": {
        "id": "dTWV-tmOPBU-"
      },
      "execution_count": null,
      "outputs": []
    },
    {
      "cell_type": "code",
      "source": [
        "\n",
        "sum(y[:,0])/15 #THEY WERE DOING THE CALCULATIONS BY COLUMNS!! NO BY ROWS"
      ],
      "metadata": {
        "colab": {
          "base_uri": "https://localhost:8080/"
        },
        "id": "-Tsiqs8lPa3j",
        "outputId": "60a23250-63a7-4d87-8e47-10b82e77cf69"
      },
      "execution_count": null,
      "outputs": [
        {
          "output_type": "execute_result",
          "data": {
            "text/plain": [
              "5022.0"
            ]
          },
          "metadata": {},
          "execution_count": 10
        }
      ]
    },
    {
      "cell_type": "code",
      "source": [
        "import numpy as np\n",
        "from sklearn.datasets import make_classification"
      ],
      "metadata": {
        "id": "7vmtdDTDPa8m"
      },
      "execution_count": null,
      "outputs": []
    },
    {
      "cell_type": "code",
      "source": [
        "a, b = make_classification(n_samples=10000, weights=(0.9, 0.1))\n"
      ],
      "metadata": {
        "id": "tSchsYjVVv7E"
      },
      "execution_count": null,
      "outputs": []
    },
    {
      "cell_type": "code",
      "source": [
        "a #features"
      ],
      "metadata": {
        "colab": {
          "base_uri": "https://localhost:8080/"
        },
        "id": "TGzevlKiWCSv",
        "outputId": "376bfbfb-65a4-48c5-9e55-d7b2a7d6ca0a"
      },
      "execution_count": null,
      "outputs": [
        {
          "output_type": "execute_result",
          "data": {
            "text/plain": [
              "array([[-1.11897696, -1.05156602, -0.42448073, ..., -0.35658781,\n",
              "        -0.98104864, -0.15708179],\n",
              "       [-2.1356464 ,  0.26080147,  1.64856182, ..., -0.76735481,\n",
              "         1.39983568, -0.14268227],\n",
              "       [ 0.19087051, -0.45926524, -1.1129168 , ...,  0.48115301,\n",
              "        -0.19199931,  0.18487855],\n",
              "       ...,\n",
              "       [-1.17183594, -1.62380621, -1.22036997, ...,  2.56878135,\n",
              "         0.25047111, -1.0707712 ],\n",
              "       [ 0.50203296,  0.26495878,  0.56720014, ..., -0.80305015,\n",
              "        -0.56956428, -1.57042808],\n",
              "       [ 0.8446739 , -1.11046876, -0.09422952, ...,  0.12415499,\n",
              "         0.07521165, -1.49000475]])"
            ]
          },
          "metadata": {},
          "execution_count": 3
        }
      ]
    },
    {
      "cell_type": "code",
      "source": [
        "b #labels"
      ],
      "metadata": {
        "colab": {
          "base_uri": "https://localhost:8080/"
        },
        "id": "11ABoWHxWD9T",
        "outputId": "e3967437-3478-4e3b-8a02-4514c658731a"
      },
      "execution_count": null,
      "outputs": [
        {
          "output_type": "execute_result",
          "data": {
            "text/plain": [
              "array([0, 0, 1, ..., 0, 1, 0])"
            ]
          },
          "metadata": {},
          "execution_count": 4
        }
      ]
    },
    {
      "cell_type": "code",
      "source": [
        "np.where(b == 0)[0]"
      ],
      "metadata": {
        "colab": {
          "base_uri": "https://localhost:8080/"
        },
        "id": "R6hi-zfgWKb-",
        "outputId": "1e9417af-58c8-4e7b-fc2a-0da647b42883"
      },
      "execution_count": null,
      "outputs": [
        {
          "output_type": "execute_result",
          "data": {
            "text/plain": [
              "array([   0,    1,    2, ..., 9996, 9997, 9998])"
            ]
          },
          "metadata": {},
          "execution_count": 7
        }
      ]
    },
    {
      "cell_type": "markdown",
      "source": [
        "Algorithmically, the steps to produce the training, validation, and test\n",
        "splits are as follows:\n",
        "1. Randomize the order of the full dataset so that classes are evenly\n",
        "mixed.\n",
        "2. Calculate the number of samples in the training (ntrn) and valida\u0002tion (nval) sets by multiplying the number of samples in the full\n",
        "dataset by the desired fraction. The remaining samples will fall into\n",
        "the test set.\n",
        "3. Assign the first ntrn samples to the training set.\n",
        "4. Assign the next nval samples to the validation set.\n",
        "5. Finally, assign the remaining samples to the test set.\n",
        "At all times, ensure that the order of the samples is truly random, and\n",
        "that when reordering the feature vectors, you’re sure to reorder the labels\n",
        "in the exact same sequence. If this is done, this simple splitting process will\n",
        "give a good split unless the dataset is very small or some classes are very rare"
      ],
      "metadata": {
        "id": "-pcOl-GqB_en"
      }
    },
    {
      "cell_type": "code",
      "source": [
        "import numpy as np\n",
        "import matplotlib.pyplot as plt\n",
        "d = [[ 0.6930, -1.1259, -1.5318, 0.9525, 1.1824],\n",
        "[ 0.5464, -0.0120, 0.5051, -0.0192, -0.1141],\n",
        "[ 0.8912, 1.3826, 1.5193, -1.1996, -1.1403],\n",
        "[ 1.1690, 0.4970, -0.1712, -0.5340, 0.3047],\n",
        "[-0.9221, -0.1071, 0.3079, -0.3885, -0.4753],\n",
        "[ 1.5699, -1.4767, 0.3327, 1.4714, 1.1807],\n",
        "[-0.3479, 0.4775, 1.8823, -1.4031, -0.7396],\n",
        "[ 0.0887, -0.4353, -1.7377, -1.2349, 1.7456],\n",
        "[ 1.0775, 0.9524, 1.2475, 0.7291, -1.1207],\n",
        "[-1.4657, 0.9250, -1.0446, 0.4262, -1.0279],\n",
        "[-1.3332, 1.4501, 0.0323, 1.1102, -0.8966],\n",
        "[ 0.3005, -1.4500, -0.2615, 1.7033, -0.2505],\n",
        "[-1.4377, -0.2472, -0.4340, -0.7032, 0.3362],\n",
        "[ 0.3016, -1.5527, -0.6213, 0.1780, -0.7517],\n",
        "[-1.1315, 0.7225, -0.0250, -1.0881, 1.7674]]\n",
        "\n"
      ],
      "metadata": {
        "id": "8jgOamnXfZX3"
      },
      "execution_count": 1,
      "outputs": []
    },
    {
      "cell_type": "code",
      "source": [
        "d = np.array(d)\n",
        "plt.boxplot(d)\n",
        "plt.show()"
      ],
      "metadata": {
        "colab": {
          "base_uri": "https://localhost:8080/",
          "height": 266
        },
        "id": "UdybNMzVfhAn",
        "outputId": "1f565e04-9be9-49d1-ca5f-2d2263402d43"
      },
      "execution_count": 2,
      "outputs": [
        {
          "output_type": "display_data",
          "data": {
            "text/plain": [
              "<Figure size 432x288 with 1 Axes>"
            ],
            "image/png": "[encoded data removed]"
          },
          "metadata": {
            "needs_background": "light"
          }
        }
      ]
    }
  ]
}