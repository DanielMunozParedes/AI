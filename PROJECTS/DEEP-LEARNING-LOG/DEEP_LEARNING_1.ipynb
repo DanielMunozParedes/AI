{
  "nbformat": 4,
  "nbformat_minor": 0,
  "metadata": {
    "colab": {
      "provenance": [],
      "toc_visible": true,
      "authorship_tag": "ABX9TyNAiddzubLHuBwWzompj6nA",
      "include_colab_link": true
    },
    "kernelspec": {
      "name": "python3",
      "display_name": "Python 3"
    },
    "language_info": {
      "name": "python"
    }
  },
  "cells": [
    {
      "cell_type": "markdown",
      "metadata": {
        "id": "view-in-github",
        "colab_type": "text"
      },
      "source": [
        "<a href=\"https://colab.research.google.com/github/DanielMunozParedes/DEEP-LEARNING-LOG/blob/main/DEEP_LEARNING_1.ipynb\" target=\"_parent\"><img src=\"https://colab.research.google.com/assets/colab-badge.svg\" alt=\"Open In Colab\"/></a>"
      ]
    },
    {
      "cell_type": "markdown",
      "source": [
        "# LISTS"
      ],
      "metadata": {
        "id": "nsOTJkO8uAP6"
      }
    },
    {
      "cell_type": "code",
      "execution_count": null,
      "metadata": {
        "colab": {
          "base_uri": "https://localhost:8080/"
        },
        "id": "A4LOy7M4rBM0",
        "outputId": "2ce1161d-9a6f-4ae4-c742-be4c2ca52484"
      },
      "outputs": [
        {
          "output_type": "execute_result",
          "data": {
            "text/plain": [
              "['daniel', 1, 'muñoz']"
            ]
          },
          "metadata": {},
          "execution_count": 1
        }
      ],
      "source": [
        "a = [\"daniel\",1,\"muñoz\"]\n",
        "a"
      ]
    },
    {
      "cell_type": "code",
      "source": [
        "a.append(\"paredes\")\n",
        "a"
      ],
      "metadata": {
        "colab": {
          "base_uri": "https://localhost:8080/"
        },
        "id": "frG1lWomrTBM",
        "outputId": "1ef27d8b-2dc7-4bd1-940b-eff7739c485f"
      },
      "execution_count": null,
      "outputs": [
        {
          "output_type": "execute_result",
          "data": {
            "text/plain": [
              "['daniel', 1, 'muñoz', 'paredes']"
            ]
          },
          "metadata": {},
          "execution_count": 2
        }
      ]
    },
    {
      "cell_type": "code",
      "source": [
        "#a[0]\n",
        "#a[1]\n",
        "#a[-1]\n",
        "#a[0:2]\n",
        "a[0:3]\n"
      ],
      "metadata": {
        "colab": {
          "base_uri": "https://localhost:8080/"
        },
        "id": "RtVCvRHXrX_c",
        "outputId": "9c83aee5-294d-4d65-c08a-e671dcd135a5"
      },
      "execution_count": null,
      "outputs": [
        {
          "output_type": "execute_result",
          "data": {
            "text/plain": [
              "['daniel', 1, 'muñoz']"
            ]
          },
          "metadata": {},
          "execution_count": 3
        }
      ]
    },
    {
      "cell_type": "code",
      "source": [
        "b = [1,2,3,4]\n",
        "2 in b"
      ],
      "metadata": {
        "colab": {
          "base_uri": "https://localhost:8080/"
        },
        "id": "fZK9Uwrbr-pS",
        "outputId": "825da916-b932-4ef3-9535-af0475b81eb7"
      },
      "execution_count": null,
      "outputs": [
        {
          "output_type": "execute_result",
          "data": {
            "text/plain": [
              "True"
            ]
          },
          "metadata": {},
          "execution_count": 4
        }
      ]
    },
    {
      "cell_type": "code",
      "source": [
        "5 in b"
      ],
      "metadata": {
        "colab": {
          "base_uri": "https://localhost:8080/"
        },
        "id": "XeBfrccdsE1A",
        "outputId": "a55a3677-d490-41c9-d85f-768d504b210d"
      },
      "execution_count": null,
      "outputs": [
        {
          "output_type": "execute_result",
          "data": {
            "text/plain": [
              "False"
            ]
          },
          "metadata": {},
          "execution_count": 5
        }
      ]
    },
    {
      "cell_type": "code",
      "source": [
        "c = b\n",
        "c"
      ],
      "metadata": {
        "colab": {
          "base_uri": "https://localhost:8080/"
        },
        "id": "dRLPOkKSsG4S",
        "outputId": "b79f7741-7b19-4493-9639-f02979df73a5"
      },
      "execution_count": null,
      "outputs": [
        {
          "output_type": "execute_result",
          "data": {
            "text/plain": [
              "[1, 2, 3, 4]"
            ]
          },
          "metadata": {},
          "execution_count": 6
        }
      ]
    },
    {
      "cell_type": "code",
      "source": [
        "c in b\n"
      ],
      "metadata": {
        "colab": {
          "base_uri": "https://localhost:8080/"
        },
        "id": "uC5usc_0sTlK",
        "outputId": "1b3f9bc2-fe8c-46ca-a553-c26a38da4593"
      },
      "execution_count": null,
      "outputs": [
        {
          "output_type": "execute_result",
          "data": {
            "text/plain": [
              "False"
            ]
          },
          "metadata": {},
          "execution_count": 7
        }
      ]
    },
    {
      "cell_type": "code",
      "source": [
        "c == b"
      ],
      "metadata": {
        "colab": {
          "base_uri": "https://localhost:8080/"
        },
        "id": "D4PhsCZZsfiB",
        "outputId": "6552309e-3310-4c92-aa48-50495d8d713a"
      },
      "execution_count": null,
      "outputs": [
        {
          "output_type": "execute_result",
          "data": {
            "text/plain": [
              "True"
            ]
          },
          "metadata": {},
          "execution_count": 8
        }
      ]
    },
    {
      "cell_type": "code",
      "source": [
        "c[1] in b"
      ],
      "metadata": {
        "colab": {
          "base_uri": "https://localhost:8080/"
        },
        "id": "zTwxnbdWsUyN",
        "outputId": "04a0e9fe-66fa-4588-843d-781bd18080f0"
      },
      "execution_count": null,
      "outputs": [
        {
          "output_type": "execute_result",
          "data": {
            "text/plain": [
              "True"
            ]
          },
          "metadata": {},
          "execution_count": 9
        }
      ]
    },
    {
      "cell_type": "code",
      "source": [
        "d = [a,b,2]\n",
        "d\n"
      ],
      "metadata": {
        "colab": {
          "base_uri": "https://localhost:8080/"
        },
        "id": "4elTfeF5s0k7",
        "outputId": "5a24c3c8-4a21-409e-84bf-6997bac6c309"
      },
      "execution_count": null,
      "outputs": [
        {
          "output_type": "execute_result",
          "data": {
            "text/plain": [
              "[['daniel', 1, 'muñoz', 'paredes'], [1, 2, 3, 4], 2]"
            ]
          },
          "metadata": {},
          "execution_count": 10
        }
      ]
    },
    {
      "cell_type": "code",
      "source": [
        "a in d"
      ],
      "metadata": {
        "colab": {
          "base_uri": "https://localhost:8080/"
        },
        "id": "9wzHI8F9tkE-",
        "outputId": "4cb061e7-656f-4a1c-aba2-9469de25dccd"
      },
      "execution_count": null,
      "outputs": [
        {
          "output_type": "execute_result",
          "data": {
            "text/plain": [
              "True"
            ]
          },
          "metadata": {},
          "execution_count": 11
        }
      ]
    },
    {
      "cell_type": "markdown",
      "source": [
        "# DICTIONARIES\n"
      ],
      "metadata": {
        "id": "s-yTZE7SuF_b"
      }
    },
    {
      "cell_type": "code",
      "source": [
        "d = {\"a\":1, \"b\":2 , \"C\":3}\n",
        "d\n",
        "d[\"a\"]"
      ],
      "metadata": {
        "colab": {
          "base_uri": "https://localhost:8080/"
        },
        "id": "AsG4dRTJuKf7",
        "outputId": "2598c8cd-859e-4ec2-8801-37fc4e0b6a84"
      },
      "execution_count": null,
      "outputs": [
        {
          "output_type": "execute_result",
          "data": {
            "text/plain": [
              "1"
            ]
          },
          "metadata": {},
          "execution_count": 12
        }
      ]
    },
    {
      "cell_type": "code",
      "source": [
        "\"a\" in d"
      ],
      "metadata": {
        "colab": {
          "base_uri": "https://localhost:8080/"
        },
        "id": "lqluSb6gvleg",
        "outputId": "440d4e5f-0b11-44f9-8133-4c2363df87bc"
      },
      "execution_count": null,
      "outputs": [
        {
          "output_type": "execute_result",
          "data": {
            "text/plain": [
              "True"
            ]
          },
          "metadata": {},
          "execution_count": 13
        }
      ]
    },
    {
      "cell_type": "code",
      "source": [
        "1 in d #not applicable with the key"
      ],
      "metadata": {
        "colab": {
          "base_uri": "https://localhost:8080/"
        },
        "id": "dOy2GV2gvo5F",
        "outputId": "7391a501-14b6-44e3-bc8c-039a007d5621"
      },
      "execution_count": null,
      "outputs": [
        {
          "output_type": "execute_result",
          "data": {
            "text/plain": [
              "False"
            ]
          },
          "metadata": {},
          "execution_count": 15
        }
      ]
    },
    {
      "cell_type": "markdown",
      "source": [
        "# FOR"
      ],
      "metadata": {
        "id": "rHc0Blwbvyia"
      }
    },
    {
      "cell_type": "code",
      "source": [
        "x = [\"beyond\" , \"redemption\" , 3 , \"trilogy\"]\n",
        "x"
      ],
      "metadata": {
        "colab": {
          "base_uri": "https://localhost:8080/"
        },
        "id": "0jh7sI7rv0uI",
        "outputId": "d0e2c590-beed-43d1-e45a-5ee957aee912"
      },
      "execution_count": null,
      "outputs": [
        {
          "output_type": "execute_result",
          "data": {
            "text/plain": [
              "['beyond', 'redemption', 3, 'trilogy']"
            ]
          },
          "metadata": {},
          "execution_count": 17
        }
      ]
    },
    {
      "cell_type": "code",
      "source": [
        "for i in range(10):\n",
        "  print(i)"
      ],
      "metadata": {
        "colab": {
          "base_uri": "https://localhost:8080/"
        },
        "id": "SZusCMh4v7jl",
        "outputId": "2cae07c8-9dfc-4a2e-d6e2-0ef186f95d11"
      },
      "execution_count": null,
      "outputs": [
        {
          "output_type": "stream",
          "name": "stdout",
          "text": [
            "0\n",
            "1\n",
            "2\n",
            "3\n",
            "4\n",
            "5\n",
            "6\n",
            "7\n",
            "8\n",
            "9\n"
          ]
        }
      ]
    },
    {
      "cell_type": "code",
      "source": [
        "for i in x:\n",
        "  print(i)"
      ],
      "metadata": {
        "colab": {
          "base_uri": "https://localhost:8080/"
        },
        "id": "YptEdfYQwM3A",
        "outputId": "7ce7d2ba-bb9f-4bfc-9023-74cd62ec7296"
      },
      "execution_count": null,
      "outputs": [
        {
          "output_type": "stream",
          "name": "stdout",
          "text": [
            "beyond\n",
            "redemption\n",
            "3\n",
            "trilogy\n"
          ]
        }
      ]
    },
    {
      "cell_type": "code",
      "source": [
        "for i,v in enumerate(x):\n",
        "  print(i,v)"
      ],
      "metadata": {
        "colab": {
          "base_uri": "https://localhost:8080/"
        },
        "id": "JdaXO_W7wRxJ",
        "outputId": "12074a30-4738-4dcf-a82a-5af53c0a3678"
      },
      "execution_count": null,
      "outputs": [
        {
          "output_type": "stream",
          "name": "stdout",
          "text": [
            "0 beyond\n",
            "1 redemption\n",
            "2 3\n",
            "3 trilogy\n"
          ]
        }
      ]
    },
    {
      "cell_type": "code",
      "source": [
        "d"
      ],
      "metadata": {
        "colab": {
          "base_uri": "https://localhost:8080/"
        },
        "id": "RPXmQvtByKoN",
        "outputId": "4dc7c8d8-261c-4bf9-c32f-39211401edec"
      },
      "execution_count": null,
      "outputs": [
        {
          "output_type": "execute_result",
          "data": {
            "text/plain": [
              "{'a': 1, 'b': 2, 'C': 3}"
            ]
          },
          "metadata": {},
          "execution_count": 23
        }
      ]
    },
    {
      "cell_type": "code",
      "source": [
        "for i in d:\n",
        "  print(i)\n",
        "\n"
      ],
      "metadata": {
        "colab": {
          "base_uri": "https://localhost:8080/"
        },
        "id": "TpoP7Oa4yMli",
        "outputId": "967f9126-6169-4cc0-a012-ec88ea358323"
      },
      "execution_count": null,
      "outputs": [
        {
          "output_type": "stream",
          "name": "stdout",
          "text": [
            "a\n",
            "b\n",
            "C\n"
          ]
        }
      ]
    },
    {
      "cell_type": "code",
      "source": [
        "for i in d:\n",
        "  print(i,d[i])"
      ],
      "metadata": {
        "colab": {
          "base_uri": "https://localhost:8080/"
        },
        "id": "_xIIf6I4y0ex",
        "outputId": "e8564c01-28bc-4a88-cbe2-0fbe7304c387"
      },
      "execution_count": null,
      "outputs": [
        {
          "output_type": "stream",
          "name": "stdout",
          "text": [
            "a 1\n",
            "b 2\n",
            "C 3\n"
          ]
        }
      ]
    },
    {
      "cell_type": "code",
      "source": [
        "for i,v in enumerate(d):\n",
        "  print(i,v,d[v])"
      ],
      "metadata": {
        "colab": {
          "base_uri": "https://localhost:8080/"
        },
        "id": "HuOEBVMpyllH",
        "outputId": "39b3c7c8-b7a7-4953-a670-f5e9c49fba1c"
      },
      "execution_count": null,
      "outputs": [
        {
          "output_type": "stream",
          "name": "stdout",
          "text": [
            "0 a 1\n",
            "1 b 2\n",
            "2 C 3\n"
          ]
        }
      ]
    },
    {
      "cell_type": "markdown",
      "source": [
        "# LISTS AND FOR"
      ],
      "metadata": {
        "id": "yLabfLopzVyI"
      }
    },
    {
      "cell_type": "code",
      "source": [
        "import random"
      ],
      "metadata": {
        "id": "bAUNmNpIzY8c"
      },
      "execution_count": null,
      "outputs": []
    },
    {
      "cell_type": "code",
      "source": [
        "random.random()"
      ],
      "metadata": {
        "colab": {
          "base_uri": "https://localhost:8080/"
        },
        "id": "n_lbQd_2zgsI",
        "outputId": "1cae6d94-41b9-45da-9a37-3b6362c95307"
      },
      "execution_count": null,
      "outputs": [
        {
          "output_type": "execute_result",
          "data": {
            "text/plain": [
              "0.3100286607404099"
            ]
          },
          "metadata": {},
          "execution_count": 28
        }
      ]
    },
    {
      "cell_type": "code",
      "source": [
        "a = []\n",
        "for i in range(10000):\n",
        "  a.append(random.random())\n",
        "a\n"
      ],
      "metadata": {
        "id": "_lw7SRP_zbKu"
      },
      "execution_count": null,
      "outputs": []
    },
    {
      "cell_type": "code",
      "source": [
        "b = [random.random() for i in range(10)]\n",
        "b\n"
      ],
      "metadata": {
        "colab": {
          "base_uri": "https://localhost:8080/"
        },
        "id": "0F3nmu09zuuW",
        "outputId": "c1f34d79-ddf3-44d4-d812-db72a1bdef27"
      },
      "execution_count": null,
      "outputs": [
        {
          "output_type": "execute_result",
          "data": {
            "text/plain": [
              "[0.05274595297713047,\n",
              " 0.3043513492132984,\n",
              " 0.4520531205015077,\n",
              " 0.7364988738633673,\n",
              " 0.7297384666173595,\n",
              " 0.9478490947456355,\n",
              " 0.2747895626470297,\n",
              " 0.2569805677162267,\n",
              " 0.9378747677525175,\n",
              " 0.9124363932335191]"
            ]
          },
          "metadata": {},
          "execution_count": 30
        }
      ]
    },
    {
      "cell_type": "code",
      "source": [
        "#b.append(random.random())\n",
        "\n",
        "b = []\n",
        "b.append(i for i in range(1)) # seems that append doesnt work as well \n",
        "b"
      ],
      "metadata": {
        "colab": {
          "base_uri": "https://localhost:8080/"
        },
        "id": "SRpQ4AJf1igk",
        "outputId": "58d9ff37-0d0b-4975-dc6e-3d000ec667fe"
      },
      "execution_count": null,
      "outputs": [
        {
          "output_type": "execute_result",
          "data": {
            "text/plain": [
              "[<generator object <genexpr> at 0x7fc889a7f200>]"
            ]
          },
          "metadata": {},
          "execution_count": 38
        }
      ]
    },
    {
      "cell_type": "code",
      "source": [
        "m3 = [i for i in range(10) if(i%3)==0]\n",
        "m3"
      ],
      "metadata": {
        "colab": {
          "base_uri": "https://localhost:8080/"
        },
        "id": "Ti-Uu85lz-1b",
        "outputId": "17f5eb83-cfab-40ff-8ce5-e58038755855"
      },
      "execution_count": null,
      "outputs": [
        {
          "output_type": "execute_result",
          "data": {
            "text/plain": [
              "[0, 3, 6, 9]"
            ]
          },
          "metadata": {},
          "execution_count": 39
        }
      ]
    },
    {
      "cell_type": "markdown",
      "source": [
        "# WHILE"
      ],
      "metadata": {
        "id": "YihcV-Vi0aER"
      }
    },
    {
      "cell_type": "code",
      "source": [
        "i = 0\n",
        "while(i < 4):\n",
        "  print(i)\n",
        "  i = i+1"
      ],
      "metadata": {
        "colab": {
          "base_uri": "https://localhost:8080/"
        },
        "id": "O4ndNTK00dFU",
        "outputId": "38c93f7a-fbf6-47ed-a311-38f1e14e5174"
      },
      "execution_count": null,
      "outputs": [
        {
          "output_type": "stream",
          "name": "stdout",
          "text": [
            "0\n",
            "1\n",
            "2\n",
            "3\n"
          ]
        }
      ]
    },
    {
      "cell_type": "code",
      "source": [
        "i=0\n",
        "while True:\n",
        "  print(i)\n",
        "  i = i +1\n",
        "  if(i == 4):\n",
        "    break"
      ],
      "metadata": {
        "colab": {
          "base_uri": "https://localhost:8080/"
        },
        "id": "B32ZmSVJ00Z4",
        "outputId": "75996dc7-cbae-4ea9-9ae9-29b32f7e2604"
      },
      "execution_count": null,
      "outputs": [
        {
          "output_type": "stream",
          "name": "stdout",
          "text": [
            "0\n",
            "1\n",
            "2\n",
            "3\n"
          ]
        }
      ]
    },
    {
      "cell_type": "code",
      "source": [
        "#this next loop, with \"continue\" going to exclude the next statement below that, crating a infinite loop.\n",
        "\n",
        "i=0\n",
        "while True:\n",
        "  print(i)\n",
        "  i = i +1\n",
        "  continue\n",
        "  if(i == 4):\n",
        "    break"
      ],
      "metadata": {
        "id": "uT4kjU4a1iCQ"
      },
      "execution_count": null,
      "outputs": []
    },
    {
      "cell_type": "markdown",
      "source": [
        "# WITH (FILES)"
      ],
      "metadata": {
        "id": "jp_lVyIg2ZPP"
      }
    },
    {
      "cell_type": "code",
      "source": [
        "#i upload beforehand the sesame text file\n",
        "#with open, the \"open\" only can be opnened 1 time\n",
        "s = \"\"\n",
        "with open(\"sesame.txt\") as f:\n",
        "  #s = f.read() thats why i comment this section. is weather s or bloc that gets the f.read()\n",
        "  bloc = [f.read(),23]\n",
        "\n",
        "print(s)"
      ],
      "metadata": {
        "colab": {
          "base_uri": "https://localhost:8080/"
        },
        "id": "2WLcORDn2dSB",
        "outputId": "2f73468c-b39c-4083-93e8-6053acbbb6e6"
      },
      "execution_count": null,
      "outputs": [
        {
          "output_type": "stream",
          "name": "stdout",
          "text": [
            "\n"
          ]
        }
      ]
    },
    {
      "cell_type": "code",
      "source": [
        "#bloc = [f.read(),23]\n",
        "bloc"
      ],
      "metadata": {
        "colab": {
          "base_uri": "https://localhost:8080/"
        },
        "id": "LC5RAEPq2n7o",
        "outputId": "301403b3-b550-4443-8d17-1ceaf4eec2aa"
      },
      "execution_count": null,
      "outputs": [
        {
          "output_type": "execute_result",
          "data": {
            "text/plain": [
              "['holaa, have a cigar', 23]"
            ]
          },
          "metadata": {},
          "execution_count": 58
        }
      ]
    },
    {
      "cell_type": "markdown",
      "source": [
        "# TRY CATCH"
      ],
      "metadata": {
        "id": "FQDUk0qo46Hp"
      }
    },
    {
      "cell_type": "markdown",
      "source": [],
      "metadata": {
        "id": "7pAx11pe58sq"
      }
    },
    {
      "cell_type": "code",
      "source": [
        "#X = 1/0"
      ],
      "metadata": {
        "id": "IPhUA6W449nk"
      },
      "execution_count": null,
      "outputs": []
    },
    {
      "cell_type": "code",
      "source": [
        "try:\n",
        "  x = 1/0\n",
        "except:\n",
        "  x = 0;print(\"no division by zero\")\n",
        "x\n"
      ],
      "metadata": {
        "colab": {
          "base_uri": "https://localhost:8080/"
        },
        "id": "wy0tdrM74_qN",
        "outputId": "c49342c5-4a14-4153-cf03-e2c5847fac0d"
      },
      "execution_count": null,
      "outputs": [
        {
          "output_type": "stream",
          "name": "stdout",
          "text": [
            "no division by zero\n"
          ]
        },
        {
          "output_type": "execute_result",
          "data": {
            "text/plain": [
              "0"
            ]
          },
          "metadata": {},
          "execution_count": 67
        }
      ]
    },
    {
      "cell_type": "markdown",
      "source": [
        "# FUNCTIONS"
      ],
      "metadata": {
        "id": "zLpt31c756p3"
      }
    },
    {
      "cell_type": "code",
      "source": [
        "def product(a,b):\n",
        "  return a*b\n",
        "\n",
        "product(2,3)"
      ],
      "metadata": {
        "colab": {
          "base_uri": "https://localhost:8080/"
        },
        "id": "c5fcdqQl6Xzn",
        "outputId": "1daca385-984a-4d7e-8b23-6a33e685c323"
      },
      "execution_count": null,
      "outputs": [
        {
          "output_type": "execute_result",
          "data": {
            "text/plain": [
              "6"
            ]
          },
          "metadata": {},
          "execution_count": 70
        }
      ]
    },
    {
      "cell_type": "code",
      "source": [
        "def product(a,b=3):\n",
        "  return a*b\n",
        "\n",
        "product(2)#no necessity to send the other argument if we initialized  the b"
      ],
      "metadata": {
        "colab": {
          "base_uri": "https://localhost:8080/"
        },
        "id": "8D3A138g5j9D",
        "outputId": "5e3a0288-ef5a-43a2-fc55-cfc0421ca031"
      },
      "execution_count": null,
      "outputs": [
        {
          "output_type": "execute_result",
          "data": {
            "text/plain": [
              "6"
            ]
          },
          "metadata": {},
          "execution_count": 72
        }
      ]
    },
    {
      "cell_type": "code",
      "source": [
        "def word():\n",
        "  print(\"das\")\n",
        "word()"
      ],
      "metadata": {
        "colab": {
          "base_uri": "https://localhost:8080/"
        },
        "id": "41yz22Vf6swG",
        "outputId": "1c942614-18a0-4a0f-d82a-00efb22bc885"
      },
      "execution_count": null,
      "outputs": [
        {
          "output_type": "stream",
          "name": "stdout",
          "text": [
            "das\n"
          ]
        }
      ]
    },
    {
      "cell_type": "markdown",
      "source": [
        "# MODULES"
      ],
      "metadata": {
        "id": "HUEHzKNA7kXT"
      }
    },
    {
      "cell_type": "code",
      "source": [
        "import time as t\n",
        "t.time()\n",
        "time.ctime()\n",
        "t.localtime().tm_year"
      ],
      "metadata": {
        "colab": {
          "base_uri": "https://localhost:8080/"
        },
        "id": "DspdARqk7m6r",
        "outputId": "5943929e-27ea-474a-8196-798496a4db1e"
      },
      "execution_count": null,
      "outputs": [
        {
          "output_type": "execute_result",
          "data": {
            "text/plain": [
              "2023"
            ]
          },
          "metadata": {},
          "execution_count": 85
        }
      ]
    },
    {
      "cell_type": "code",
      "source": [
        "from time import ctime,localtime\n",
        "ctime()\n",
        "localtime().tm_year"
      ],
      "metadata": {
        "colab": {
          "base_uri": "https://localhost:8080/"
        },
        "id": "DSAjJZYt729J",
        "outputId": "1e0a5b0c-baa5-4d04-c3c7-450f191b97c5"
      },
      "execution_count": null,
      "outputs": [
        {
          "output_type": "execute_result",
          "data": {
            "text/plain": [
              "2023"
            ]
          },
          "metadata": {},
          "execution_count": 82
        }
      ]
    }
  ]
}